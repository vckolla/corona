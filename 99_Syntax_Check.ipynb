{
 "cells": [
  {
   "cell_type": "code",
   "execution_count": 2,
   "metadata": {},
   "outputs": [
    {
     "output_type": "stream",
     "name": "stderr",
     "text": "Using TensorFlow backend.\n"
    }
   ],
   "source": [
    "import sys\n",
    "import os\n",
    "TOP = \"C:/Users/vishk/Desktop/WIP/2020/2020 Q1/07 - Self Learning\"\n",
    "sys.path.append(f\"{TOP}/lib\")\n",
    "os.environ[\"TOP\"] = TOP\n",
    "from bootstrap import *"
   ]
  },
  {
   "cell_type": "code",
   "execution_count": 3,
   "metadata": {},
   "outputs": [],
   "source": [
    "mysql_con, sql_svr_con = get_con(cfg['mysql'], cfg['sql_svr'])\n",
    "con       = sql_svr_con\n",
    "sql       = \"select * from covid19_us_mds\"\n",
    "df_out    = get_df_from_sql(sql, con)"
   ]
  },
  {
   "cell_type": "code",
   "execution_count": 4,
   "metadata": {},
   "outputs": [
    {
     "output_type": "display_data",
     "data": {
      "text/plain": "        incidence\n117279          0\n117280          0\n117281          0\n117282          0\n117283          0",
      "text/html": "<div>\n<style scoped>\n    .dataframe tbody tr th:only-of-type {\n        vertical-align: middle;\n    }\n\n    .dataframe tbody tr th {\n        vertical-align: top;\n    }\n\n    .dataframe thead th {\n        text-align: right;\n    }\n</style>\n<table border=\"1\" class=\"dataframe\">\n  <thead>\n    <tr style=\"text-align: right;\">\n      <th></th>\n      <th>incidence</th>\n    </tr>\n  </thead>\n  <tbody>\n    <tr>\n      <th>117279</th>\n      <td>0</td>\n    </tr>\n    <tr>\n      <th>117280</th>\n      <td>0</td>\n    </tr>\n    <tr>\n      <th>117281</th>\n      <td>0</td>\n    </tr>\n    <tr>\n      <th>117282</th>\n      <td>0</td>\n    </tr>\n    <tr>\n      <th>117283</th>\n      <td>0</td>\n    </tr>\n  </tbody>\n</table>\n</div>"
     },
     "metadata": {}
    },
    {
     "output_type": "display_data",
     "data": {
      "text/plain": "117279    0\n117280    0\n117281    0\n117282    0\n117283    0\nName: incidence, dtype: int64"
     },
     "metadata": {}
    }
   ],
   "source": [
    "metric = 'incidence'\n",
    "rcnt_dt = df_out['date'].max().date()\n",
    "df = df_out[\n",
    "    (df_out['town'] == 'Middlesex, Massachusetts, US')][metric]\n",
    "df_pred = pd.DataFrame(df)\n",
    "#display(df_pred)\n",
    "display(df_pred.head(5))\n",
    "display(df_pred[metric].head(5))\n",
    "\n",
    "def get_val(row):\n",
    "  return row[metric]*1.1\n",
    "\n",
    "df_pred['new'] = df_pred.apply(lambda row: get_val(row), axis=1)"
   ]
  },
  {
   "cell_type": "code",
   "execution_count": null,
   "metadata": {},
   "outputs": [],
   "source": []
  }
 ],
 "metadata": {
  "kernelspec": {
   "display_name": "Python 3",
   "language": "python",
   "name": "python3"
  },
  "language_info": {
   "codemirror_mode": {
    "name": "ipython",
    "version": 3
   },
   "file_extension": ".py",
   "mimetype": "text/x-python",
   "name": "python",
   "nbconvert_exporter": "python",
   "pygments_lexer": "ipython3",
   "version": "3.7.4-final"
  }
 },
 "nbformat": 4,
 "nbformat_minor": 2
}