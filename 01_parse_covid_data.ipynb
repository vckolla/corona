{
 "cells": [
  {
   "cell_type": "code",
   "execution_count": 9,
   "metadata": {},
   "outputs": [],
   "source": [
    "import sys\n",
    "import os\n",
    "TOP = \"C:/Users/vishk/Desktop/WIP/2020/2020 Q1/07 - Self Learning\"\n",
    "sys.path.append(f\"{TOP}/lib\")\n",
    "os.environ[\"TOP\"] = TOP\n",
    "from bootstrap import *"
   ]
  },
  {
   "cell_type": "code",
   "execution_count": 10,
   "metadata": {},
   "outputs": [],
   "source": [
    "def smry_stats():\n",
    "    \"\"\"\n",
    "    \"\"\"\n",
    "    for tpl in covid_files:\n",
    "        tag, name = tpl\n",
    "\n",
    "        if (do_refresh == True):\n",
    "            print(f\"Refreshing {tag} ...\", end = \"\")\n",
    "            full_name = f\"{TOP2}/{name}\"\n",
    "            df = pd.read_csv(full_name)\n",
    "            df_to_sql(df, tag, sql_svr_con)\n",
    "            print(\"Done .\")\n",
    "            \n",
    "        if (gen_stats == True):\n",
    "            sql = f\"select * from {tag}\"\n",
    "            df = pd.read_sql(sql, con)\n",
    "            underline = \"-\"*len(tag)\n",
    "\n",
    "            p_str = f\"\"\"\n",
    "            {tag}\n",
    "            {underline}\n",
    "            shape   = {df.shape}\n",
    "            columns = {df.columns}\n",
    "\n",
    "            \"\"\"\n",
    "\n",
    "            p_print(p_str)\n",
    "        \n",
    "    return None"
   ]
  },
  {
   "cell_type": "code",
   "execution_count": 11,
   "metadata": {},
   "outputs": [],
   "source": [
    "TOP2 = r\"C:\\Users\\vishk\\Desktop\\WIP\\2020\\2020 Q1\\16 - COVID-19\\csse_covid_19_data\\csse_covid_19_time_series\"\n",
    "#os.listdir(TOP2)\n",
    "covid_files = [\n",
    "    ('covid19_us_cases',     'time_series_covid19_confirmed_US.csv'),\n",
    "    ('covid19_us_deaths',    'time_series_covid19_deaths_US.csv'),\n",
    "    ('covid19_global_cases', 'time_series_covid19_confirmed_global.csv'),\n",
    "    ('covid19_global_deaths','time_series_covid19_deaths_US.csv'),\n",
    "]\n",
    "pd.plotting.register_matplotlib_converters()"
   ]
  },
  {
   "cell_type": "code",
   "execution_count": 12,
   "metadata": {},
   "outputs": [
    {
     "output_type": "stream",
     "name": "stdout",
     "text": "Refreshing covid19_us_cases ...Done .\n\n      covid19_us_cases\n      ----------------\n      shape   = (3262, 110)\n      columns = Index(['UID', 'iso2', 'iso3', 'code3', 'FIPS', 'Admin2', 'Province_State',\n 'Country_Region', 'Lat', 'Long_',\n ...\n '4/20/20', '4/21/20', '4/22/20', '4/23/20', '4/24/20', '4/25/20',\n '4/26/20', '4/27/20', '4/28/20', '4/29/20'],\ndtype='object', length=110)\n\n\nRefreshing covid19_us_deaths ...Done .\n\n      covid19_us_deaths\n      -----------------\n      shape   = (3262, 111)\n      columns = Index(['UID', 'iso2', 'iso3', 'code3', 'FIPS', 'Admin2', 'Province_State',\n 'Country_Region', 'Lat', 'Long_',\n ...\n '4/20/20', '4/21/20', '4/22/20', '4/23/20', '4/24/20', '4/25/20',\n '4/26/20', '4/27/20', '4/28/20', '4/29/20'],\ndtype='object', length=111)\n\n\nRefreshing covid19_global_cases ...Done .\n\n      covid19_global_cases\n      --------------------\n      shape   = (264, 103)\n      columns = Index(['Province/State', 'Country/Region', 'Lat', 'Long', '1/22/20', '1/23/20',\n '1/24/20', '1/25/20', '1/26/20', '1/27/20',\n ...\n '4/20/20', '4/21/20', '4/22/20', '4/23/20', '4/24/20', '4/25/20',\n '4/26/20', '4/27/20', '4/28/20', '4/29/20'],\ndtype='object', length=103)\n\n\nRefreshing covid19_global_deaths ...Done .\n\n      covid19_global_deaths\n      ---------------------\n      shape   = (3262, 111)\n      columns = Index(['UID', 'iso2', 'iso3', 'code3', 'FIPS', 'Admin2', 'Province_State',\n 'Country_Region', 'Lat', 'Long_',\n ...\n '4/20/20', '4/21/20', '4/22/20', '4/23/20', '4/24/20', '4/25/20',\n '4/26/20', '4/27/20', '4/28/20', '4/29/20'],\ndtype='object', length=111)\n\n\n"
    }
   ],
   "source": [
    "mysql_con, sql_svr_con = get_con(cfg['mysql'], cfg['sql_svr'])\n",
    "con   = sql_svr_con\n",
    "\n",
    "do_refresh = False\n",
    "gen_stats  = False\n",
    "sv_to_sql  = False\n",
    "\n",
    "do_refresh = True\n",
    "gen_stats  = True\n",
    "\n",
    "smry_stats()"
   ]
  }
 ],
 "metadata": {
  "kernelspec": {
   "display_name": "Python 3",
   "language": "python",
   "name": "python3"
  },
  "language_info": {
   "codemirror_mode": {
    "name": "ipython",
    "version": 3
   },
   "file_extension": ".py",
   "mimetype": "text/x-python",
   "name": "python",
   "nbconvert_exporter": "python",
   "pygments_lexer": "ipython3",
   "version": "3.7.4-final"
  }
 },
 "nbformat": 4,
 "nbformat_minor": 2
}