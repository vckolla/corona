{
 "cells": [
  {
   "cell_type": "code",
   "execution_count": 2,
   "metadata": {},
   "outputs": [],
   "source": [
    "import sys\n",
    "import os\n",
    "TOP = \"C:/Users/vishk/Desktop/WIP/2020/2020 Q1/07 - Self Learning\"\n",
    "sys.path.append(f\"{TOP}/lib\")\n",
    "os.environ[\"TOP\"] = TOP\n",
    "from bootstrap import *"
   ]
  },
  {
   "cell_type": "code",
   "execution_count": 3,
   "metadata": {},
   "outputs": [],
   "source": [
    "def smry_stats():\n",
    "    \"\"\"\n",
    "    \"\"\"\n",
    "    for tpl in covid_files:\n",
    "        tag, name = tpl\n",
    "\n",
    "        if (do_refresh == True):\n",
    "            print(f\"Refreshing {tag} ...\", end = \"\")\n",
    "            full_name = f\"{TOP2}/{name}\"\n",
    "            df = pd.read_csv(full_name)\n",
    "            df_to_sql(df, tag, sql_svr_con)\n",
    "            print(\"Done .\")\n",
    "            \n",
    "        if (gen_stats == True):\n",
    "            sql = f\"select * from {tag}\"\n",
    "            df = pd.read_sql(sql, con)\n",
    "            underline = \"-\"*len(tag)\n",
    "\n",
    "            p_str = f\"\"\"\n",
    "            {tag}\n",
    "            {underline}\n",
    "            shape   = {df.shape}\n",
    "            columns = {df.columns}\n",
    "\n",
    "            \"\"\"\n",
    "\n",
    "            p_print(p_str)\n",
    "        \n",
    "    return None"
   ]
  },
  {
   "cell_type": "code",
   "execution_count": 4,
   "metadata": {},
   "outputs": [],
   "source": [
    "TOP2 = r\"C:\\Users\\vishk\\Desktop\\WIP\\2020\\2020 Q1\\16 - COVID-19\\csse_covid_19_data\\csse_covid_19_time_series\"\n",
    "#os.listdir(TOP2)\n",
    "covid_files = [\n",
    "    ('covid19_us_cases',     'time_series_covid19_confirmed_US.csv'),\n",
    "    ('covid19_us_deaths',    'time_series_covid19_deaths_US.csv'),\n",
    "    ('covid19_global_cases', 'time_series_covid19_confirmed_global.csv'),\n",
    "    ('covid19_global_deaths','time_series_covid19_deaths_US.csv'),\n",
    "]\n",
    "pd.plotting.register_matplotlib_converters()"
   ]
  },
  {
   "cell_type": "code",
   "execution_count": 5,
   "metadata": {},
   "outputs": [
    {
     "output_type": "stream",
     "name": "stdout",
     "text": "Refreshing covid19_us_cases ...Done .\n\n      covid19_us_cases\n      ----------------\n      shape   = (3253, 89)\n      columns = Index(['UID', 'iso2', 'iso3', 'code3', 'FIPS', 'Admin2', 'Province_State',\n 'Country_Region', 'Lat', 'Long_', 'Combined_Key', '1/22/20', '1/23/20',\n '1/24/20', '1/25/20', '1/26/20', '1/27/20', '1/28/20', '1/29/20',\n '1/30/20', '1/31/20', '2/1/20', '2/2/20', '2/3/20', '2/4/20', '2/5/20',\n '2/6/20', '2/7/20', '2/8/20', '2/9/20', '2/10/20', '2/11/20', '2/12/20',\n '2/13/20', '2/14/20', '2/15/20', '2/16/20', '2/17/20', '2/18/20',\n '2/19/20', '2/20/20', '2/21/20', '2/22/20', '2/23/20', '2/24/20',\n '2/25/20', '2/26/20', '2/27/20', '2/28/20', '2/29/20', '3/1/20',\n '3/2/20', '3/3/20', '3/4/20', '3/5/20', '3/6/20', '3/7/20', '3/8/20',\n '3/9/20', '3/10/20', '3/11/20', '3/12/20', '3/13/20', '3/14/20',\n '3/15/20', '3/16/20', '3/17/20', '3/18/20', '3/19/20', '3/20/20',\n '3/21/20', '3/22/20', '3/23/20', '3/24/20', '3/25/20', '3/26/20',\n '3/27/20', '3/28/20', '3/29/20', '3/30/20', '3/31/20', '4/1/20',\n '4/2/20', '4/3/20', '4/4/20', '4/5/20', '4/6/20', '4/7/20', '4/8/20'],\ndtype='object')\n\n\nRefreshing covid19_us_deaths ...Done .\n\n      covid19_us_deaths\n      -----------------\n      shape   = (3253, 90)\n      columns = Index(['UID', 'iso2', 'iso3', 'code3', 'FIPS', 'Admin2', 'Province_State',\n 'Country_Region', 'Lat', 'Long_', 'Combined_Key', 'Population',\n '1/22/20', '1/23/20', '1/24/20', '1/25/20', '1/26/20', '1/27/20',\n '1/28/20', '1/29/20', '1/30/20', '1/31/20', '2/1/20', '2/2/20',\n '2/3/20', '2/4/20', '2/5/20', '2/6/20', '2/7/20', '2/8/20', '2/9/20',\n '2/10/20', '2/11/20', '2/12/20', '2/13/20', '2/14/20', '2/15/20',\n '2/16/20', '2/17/20', '2/18/20', '2/19/20', '2/20/20', '2/21/20',\n '2/22/20', '2/23/20', '2/24/20', '2/25/20', '2/26/20', '2/27/20',\n '2/28/20', '2/29/20', '3/1/20', '3/2/20', '3/3/20', '3/4/20', '3/5/20',\n '3/6/20', '3/7/20', '3/8/20', '3/9/20', '3/10/20', '3/11/20', '3/12/20',\n '3/13/20', '3/14/20', '3/15/20', '3/16/20', '3/17/20', '3/18/20',\n '3/19/20', '3/20/20', '3/21/20', '3/22/20', '3/23/20', '3/24/20',\n '3/25/20', '3/26/20', '3/27/20', '3/28/20', '3/29/20', '3/30/20',\n '3/31/20', '4/1/20', '4/2/20', '4/3/20', '4/4/20', '4/5/20', '4/6/20',\n '4/7/20', '4/8/20'],\ndtype='object')\n\n\nRefreshing covid19_global_cases ...Done .\n\n      covid19_global_cases\n      --------------------\n      shape   = (263, 82)\n      columns = Index(['Province/State', 'Country/Region', 'Lat', 'Long', '1/22/20', '1/23/20',\n '1/24/20', '1/25/20', '1/26/20', '1/27/20', '1/28/20', '1/29/20',\n '1/30/20', '1/31/20', '2/1/20', '2/2/20', '2/3/20', '2/4/20', '2/5/20',\n '2/6/20', '2/7/20', '2/8/20', '2/9/20', '2/10/20', '2/11/20', '2/12/20',\n '2/13/20', '2/14/20', '2/15/20', '2/16/20', '2/17/20', '2/18/20',\n '2/19/20', '2/20/20', '2/21/20', '2/22/20', '2/23/20', '2/24/20',\n '2/25/20', '2/26/20', '2/27/20', '2/28/20', '2/29/20', '3/1/20',\n '3/2/20', '3/3/20', '3/4/20', '3/5/20', '3/6/20', '3/7/20', '3/8/20',\n '3/9/20', '3/10/20', '3/11/20', '3/12/20', '3/13/20', '3/14/20',\n '3/15/20', '3/16/20', '3/17/20', '3/18/20', '3/19/20', '3/20/20',\n '3/21/20', '3/22/20', '3/23/20', '3/24/20', '3/25/20', '3/26/20',\n '3/27/20', '3/28/20', '3/29/20', '3/30/20', '3/31/20', '4/1/20',\n '4/2/20', '4/3/20', '4/4/20', '4/5/20', '4/6/20', '4/7/20', '4/8/20'],\ndtype='object')\n\n\nRefreshing covid19_global_deaths ...Done .\n\n      covid19_global_deaths\n      ---------------------\n      shape   = (3253, 90)\n      columns = Index(['UID', 'iso2', 'iso3', 'code3', 'FIPS', 'Admin2', 'Province_State',\n 'Country_Region', 'Lat', 'Long_', 'Combined_Key', 'Population',\n '1/22/20', '1/23/20', '1/24/20', '1/25/20', '1/26/20', '1/27/20',\n '1/28/20', '1/29/20', '1/30/20', '1/31/20', '2/1/20', '2/2/20',\n '2/3/20', '2/4/20', '2/5/20', '2/6/20', '2/7/20', '2/8/20', '2/9/20',\n '2/10/20', '2/11/20', '2/12/20', '2/13/20', '2/14/20', '2/15/20',\n '2/16/20', '2/17/20', '2/18/20', '2/19/20', '2/20/20', '2/21/20',\n '2/22/20', '2/23/20', '2/24/20', '2/25/20', '2/26/20', '2/27/20',\n '2/28/20', '2/29/20', '3/1/20', '3/2/20', '3/3/20', '3/4/20', '3/5/20',\n '3/6/20', '3/7/20', '3/8/20', '3/9/20', '3/10/20', '3/11/20', '3/12/20',\n '3/13/20', '3/14/20', '3/15/20', '3/16/20', '3/17/20', '3/18/20',\n '3/19/20', '3/20/20', '3/21/20', '3/22/20', '3/23/20', '3/24/20',\n '3/25/20', '3/26/20', '3/27/20', '3/28/20', '3/29/20', '3/30/20',\n '3/31/20', '4/1/20', '4/2/20', '4/3/20', '4/4/20', '4/5/20', '4/6/20',\n '4/7/20', '4/8/20'],\ndtype='object')\n\n\n"
    }
   ],
   "source": [
    "mysql_con, sql_svr_con = get_con(cfg['mysql'], cfg['sql_svr'])\n",
    "con   = sql_svr_con\n",
    "\n",
    "do_refresh = False\n",
    "gen_stats  = False\n",
    "sv_to_sql  = False\n",
    "\n",
    "do_refresh = True\n",
    "gen_stats  = True\n",
    "\n",
    "smry_stats()"
   ]
  },
  {
   "cell_type": "code",
   "execution_count": null,
   "metadata": {},
   "outputs": [],
   "source": []
  }
 ],
 "metadata": {
  "kernelspec": {
   "display_name": "Python 3",
   "language": "python",
   "name": "python3"
  },
  "language_info": {
   "codemirror_mode": {
    "name": "ipython",
    "version": 3
   },
   "file_extension": ".py",
   "mimetype": "text/x-python",
   "name": "python",
   "nbconvert_exporter": "python",
   "pygments_lexer": "ipython3",
   "version": "3.7.4-final"
  }
 },
 "nbformat": 4,
 "nbformat_minor": 2
}